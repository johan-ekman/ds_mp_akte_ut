{
 "cells": [
  {
   "cell_type": "code",
   "execution_count": 17,
   "metadata": {},
   "outputs": [],
   "source": [
    "import pandas as pd\n",
    "\n",
    "import os\n",
    "import warnings\n",
    "warnings.filterwarnings('ignore')"
   ]
  },
  {
   "cell_type": "markdown",
   "metadata": {},
   "source": [
    "Januari 2019\n",
    "\n",
    "Samuel gör ett jobb om hur MP ska försöka vara relevanta när de åkte ur så pass många kommuner i kommunvalet 2018. Men till den texten vill han veta i vilka kommuner de åkte ur. Texten [finns på webben här](https://dagenssamhalle.se/nyhet/tillbaka-till-rotterna-nar-mp-borjar-om-26173)."
   ]
  },
  {
   "cell_type": "code",
   "execution_count": 18,
   "metadata": {},
   "outputs": [],
   "source": [
    "df = pd.read_excel('data/resultat/resultat_2018/valresultat_2018K.xlsx')"
   ]
  },
  {
   "cell_type": "code",
   "execution_count": 19,
   "metadata": {},
   "outputs": [],
   "source": [
    "df = df.loc[(df['parti']=='MP')&(df['mandat_fgval']>0)&(df['mandat']==0),['kommun','mandat_fgval']+df.columns.tolist()[-4:]]"
   ]
  },
  {
   "cell_type": "code",
   "execution_count": 20,
   "metadata": {},
   "outputs": [],
   "source": [
    "df = df.rename(columns={'mandat_fgval':'mandat_2014',\n",
    "                        'procent':'procent_2018',\n",
    "                        'procent_fgval':'procent_2014',\n",
    "                        'röster':'röster_2018',\n",
    "                        'röster_fgval':'röster_2014'}).reset_index(drop=True)"
   ]
  },
  {
   "cell_type": "code",
   "execution_count": 21,
   "metadata": {},
   "outputs": [
    {
     "data": {
      "text/html": [
       "<div>\n",
       "<style scoped>\n",
       "    .dataframe tbody tr th:only-of-type {\n",
       "        vertical-align: middle;\n",
       "    }\n",
       "\n",
       "    .dataframe tbody tr th {\n",
       "        vertical-align: top;\n",
       "    }\n",
       "\n",
       "    .dataframe thead th {\n",
       "        text-align: right;\n",
       "    }\n",
       "</style>\n",
       "<table border=\"1\" class=\"dataframe\">\n",
       "  <thead>\n",
       "    <tr style=\"text-align: right;\">\n",
       "      <th></th>\n",
       "      <th>kommun</th>\n",
       "      <th>mandat_2014</th>\n",
       "      <th>procent_2018</th>\n",
       "      <th>procent_2014</th>\n",
       "      <th>röster_2018</th>\n",
       "      <th>röster_2014</th>\n",
       "    </tr>\n",
       "  </thead>\n",
       "  <tbody>\n",
       "    <tr>\n",
       "      <th>0</th>\n",
       "      <td>Olofström</td>\n",
       "      <td>1.0</td>\n",
       "      <td>1,02</td>\n",
       "      <td>2,41</td>\n",
       "      <td>87</td>\n",
       "      <td>203.0</td>\n",
       "    </tr>\n",
       "    <tr>\n",
       "      <th>1</th>\n",
       "      <td>Sölvesborg</td>\n",
       "      <td>1.0</td>\n",
       "      <td>1,42</td>\n",
       "      <td>2,53</td>\n",
       "      <td>168</td>\n",
       "      <td>288.0</td>\n",
       "    </tr>\n",
       "    <tr>\n",
       "      <th>2</th>\n",
       "      <td>Avesta</td>\n",
       "      <td>1.0</td>\n",
       "      <td>1,69</td>\n",
       "      <td>2,74</td>\n",
       "      <td>252</td>\n",
       "      <td>400.0</td>\n",
       "    </tr>\n",
       "    <tr>\n",
       "      <th>3</th>\n",
       "      <td>Leksand</td>\n",
       "      <td>3.0</td>\n",
       "      <td>1,07</td>\n",
       "      <td>6,42</td>\n",
       "      <td>117</td>\n",
       "      <td>674.0</td>\n",
       "    </tr>\n",
       "    <tr>\n",
       "      <th>4</th>\n",
       "      <td>Rättvik</td>\n",
       "      <td>2.0</td>\n",
       "      <td>0,78</td>\n",
       "      <td>5,51</td>\n",
       "      <td>59</td>\n",
       "      <td>408.0</td>\n",
       "    </tr>\n",
       "  </tbody>\n",
       "</table>\n",
       "</div>"
      ],
      "text/plain": [
       "       kommun  mandat_2014 procent_2018 procent_2014  röster_2018  röster_2014\n",
       "0   Olofström          1.0         1,02         2,41           87        203.0\n",
       "1  Sölvesborg          1.0         1,42         2,53          168        288.0\n",
       "2      Avesta          1.0         1,69         2,74          252        400.0\n",
       "3     Leksand          3.0         1,07         6,42          117        674.0\n",
       "4     Rättvik          2.0         0,78         5,51           59        408.0"
      ]
     },
     "execution_count": 21,
     "metadata": {},
     "output_type": "execute_result"
    }
   ],
   "source": [
    "df.head()"
   ]
  },
  {
   "cell_type": "code",
   "execution_count": 22,
   "metadata": {},
   "outputs": [],
   "source": [
    "kommuner = df.kommun.tolist()"
   ]
  },
  {
   "cell_type": "code",
   "execution_count": 23,
   "metadata": {},
   "outputs": [],
   "source": [
    "os.makedirs('res')"
   ]
  },
  {
   "cell_type": "code",
   "execution_count": 24,
   "metadata": {},
   "outputs": [],
   "source": [
    "df.to_excel('res/till_samuel.xlsx',index=False)"
   ]
  },
  {
   "cell_type": "markdown",
   "metadata": {},
   "source": [
    "Och nu för att ta fram alla kommuner de inte är representerade:"
   ]
  },
  {
   "cell_type": "code",
   "execution_count": 25,
   "metadata": {},
   "outputs": [],
   "source": [
    "df = pd.read_excel('data/resultat/resultat_2018/valresultat_2018K.xlsx')"
   ]
  },
  {
   "cell_type": "code",
   "execution_count": 26,
   "metadata": {},
   "outputs": [],
   "source": [
    "partier = ['M','C','L','KD','S','V','MP','SD']"
   ]
  },
  {
   "cell_type": "code",
   "execution_count": 27,
   "metadata": {},
   "outputs": [],
   "source": [
    "df.loc[~df['parti'].isin(partier),'parti'] = 'övr'"
   ]
  },
  {
   "cell_type": "code",
   "execution_count": 28,
   "metadata": {},
   "outputs": [],
   "source": [
    "df = df[['kommun','parti','mandat']].groupby(['kommun','parti']).sum().reset_index()"
   ]
  },
  {
   "cell_type": "code",
   "execution_count": 29,
   "metadata": {},
   "outputs": [],
   "source": [
    "df = df.pivot_table(index='kommun',columns='parti',values='mandat')"
   ]
  },
  {
   "cell_type": "code",
   "execution_count": 30,
   "metadata": {},
   "outputs": [],
   "source": [
    "df.loc[df['MP']==0].reset_index().to_excel('res/ej_representation.xlsx',index=False)"
   ]
  },
  {
   "cell_type": "code",
   "execution_count": 31,
   "metadata": {},
   "outputs": [],
   "source": [
    "df.reset_index().loc[(~df.reset_index()['kommun'].isin(kommuner))&(df.reset_index()['MP']==0)].to_excel('res/MP_icke_rep.xlsx',index=False)"
   ]
  },
  {
   "cell_type": "code",
   "execution_count": null,
   "metadata": {},
   "outputs": [],
   "source": []
  },
  {
   "cell_type": "code",
   "execution_count": null,
   "metadata": {},
   "outputs": [],
   "source": []
  },
  {
   "cell_type": "code",
   "execution_count": null,
   "metadata": {},
   "outputs": [],
   "source": []
  },
  {
   "cell_type": "code",
   "execution_count": null,
   "metadata": {},
   "outputs": [],
   "source": []
  },
  {
   "cell_type": "code",
   "execution_count": null,
   "metadata": {},
   "outputs": [],
   "source": []
  },
  {
   "cell_type": "code",
   "execution_count": null,
   "metadata": {},
   "outputs": [],
   "source": []
  }
 ],
 "metadata": {
  "kernelspec": {
   "display_name": "Python 3",
   "language": "python",
   "name": "python3"
  },
  "language_info": {
   "codemirror_mode": {
    "name": "ipython",
    "version": 3
   },
   "file_extension": ".py",
   "mimetype": "text/x-python",
   "name": "python",
   "nbconvert_exporter": "python",
   "pygments_lexer": "ipython3",
   "version": "3.6.2"
  }
 },
 "nbformat": 4,
 "nbformat_minor": 2
}
